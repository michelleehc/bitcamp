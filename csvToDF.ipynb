{
 "cells": [
  {
   "cell_type": "code",
   "execution_count": 1,
   "metadata": {},
   "outputs": [
    {
     "name": "stdout",
     "output_type": "stream",
     "text": [
      "         State                         County Declaration Date (copy)  \\\n",
      "0      Alabama                 Autauga County               1/15/2023   \n",
      "1      Alabama                 Autauga County              12/10/2020   \n",
      "2      Alabama                 Autauga County               9/14/2020   \n",
      "3      Alabama                 Autauga County              11/16/2017   \n",
      "4      Alabama                 Autauga County               10/8/2017   \n",
      "...        ...                            ...                     ...   \n",
      "56840  Wyoming                  Weston County                8/1/2001   \n",
      "56841  Wyoming                  Weston County              12/13/2000   \n",
      "56842  Wyoming                  Weston County               5/29/1978   \n",
      "56843  Wyoming  Wind River Indian Reservation               7/22/2011   \n",
      "56844  Wyoming  Wind River Indian Reservation               7/14/2010   \n",
      "\n",
      "      Declaration Date  Disaster Number Incident Subcategory            Blank  \\\n",
      "0            1/15/2023             4684         Severe Storm  Disaster Number   \n",
      "1           12/10/2020             4573            Hurricane  Disaster Number   \n",
      "2            9/14/2020             3545            Hurricane  Disaster Number   \n",
      "3           11/16/2017             4349            Hurricane  Disaster Number   \n",
      "4            10/8/2017             3394            Hurricane  Disaster Number   \n",
      "...                ...              ...                  ...              ...   \n",
      "56840         8/1/2001             2370                 Fire  Disaster Number   \n",
      "56841       12/13/2000             1351         Severe Storm  Disaster Number   \n",
      "56842        5/29/1978              557                Flood  Disaster Number   \n",
      "56843        7/22/2011             4007         Severe Storm  Disaster Number   \n",
      "56844        7/14/2010             1923                Flood  Disaster Number   \n",
      "\n",
      "                                       Declaration Title  \n",
      "0      SEVERE STORMS, STRAIGHT-LINE WINDS, AND TORNADOES  \n",
      "1                                         HURRICANE ZETA  \n",
      "2                                        HURRICANE SALLY  \n",
      "3                                         HURRICANE NATE  \n",
      "4                                         HURRICANE NATE  \n",
      "...                                                  ...  \n",
      "56840           WY- ELK MOUNTAIN FIRE COMPLEX - 08/01/01  \n",
      "56841                                SEVERE WINTER STORM  \n",
      "56842                SEVERE STORMS, FLOODING & MUDSLIDES  \n",
      "56843            SEVERE STORMS, FLOODING, AND LANDSLIDES  \n",
      "56844                                           FLOODING  \n",
      "\n",
      "[56845 rows x 8 columns]\n"
     ]
    }
   ],
   "source": [
    "import pandas as pd\n",
    "\n",
    "df = pd.read_csv ('Table_-_Main_Disaster_List_data.csv')\n",
    "print(df)"
   ]
  },
  {
   "cell_type": "code",
   "execution_count": 9,
   "metadata": {},
   "outputs": [],
   "source": []
  },
  {
   "cell_type": "code",
   "execution_count": null,
   "metadata": {},
   "outputs": [],
   "source": []
  }
 ],
 "metadata": {
  "kernelspec": {
   "display_name": "Python 3",
   "language": "python",
   "name": "python3"
  },
  "language_info": {
   "codemirror_mode": {
    "name": "ipython",
    "version": 3
   },
   "file_extension": ".py",
   "mimetype": "text/x-python",
   "name": "python",
   "nbconvert_exporter": "python",
   "pygments_lexer": "ipython3",
   "version": "3.12.1"
  }
 },
 "nbformat": 4,
 "nbformat_minor": 2
}
