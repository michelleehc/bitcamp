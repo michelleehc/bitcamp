{
 "cells": [
  {
   "cell_type": "code",
   "execution_count": 2,
   "metadata": {},
   "outputs": [],
   "source": [
    "import pandas as pd\n",
    "import matplotlib.pyplot as plt\n",
    "import numpy as np\n",
    "\n",
    "tampa_df = pd.read_csv ('tampa.csv')\n",
    "read_dis_df = pd.read_csv ('disasters.csv')"
   ]
  },
  {
   "cell_type": "code",
   "execution_count": 7,
   "metadata": {},
   "outputs": [
    {
     "name": "stdout",
     "output_type": "stream",
     "text": [
      "           hurricanes       date  -6 months  +6 months\n",
      "0    HURRICANE IDALIA 2023-08-31 2023-02-28 2024-02-29\n",
      "1    HURRICANE NICOLE 2022-12-13 2022-06-13 2023-06-13\n",
      "2       HURRICANE IAN 2022-09-29 2022-03-29 2023-03-29\n",
      "3       HURRICANE ETA 2020-11-11 2020-05-11 2021-05-11\n",
      "4    HURRICANE DORIAN 2019-08-30 2019-02-28 2020-02-29\n",
      "5   HURRICANE MICHAEL 2018-10-09 2018-04-09 2019-04-09\n",
      "6      HURRICANE IRMA 2017-09-10 2017-03-10 2018-03-10\n",
      "7   HURRICANE HERMINE 2016-09-28 2016-03-28 2017-03-28\n",
      "8   HURRICANE KATRINA 2005-09-05 2005-03-05 2006-03-05\n",
      "9    HURRICANE JEANNE 2004-09-26 2004-03-26 2005-03-26\n",
      "10  HURRICANE FRANCES 2004-09-04 2004-03-04 2005-03-04\n",
      "11  HURRICANE CHARLEY 2004-08-13 2004-02-13 2005-02-13\n",
      "12  HURRICANE GRORGES 1998-09-25 1998-03-25 1999-03-25\n",
      "13    HURRICANE ELENA 1985-09-12 1985-03-12 1986-03-12\n",
      "14   HURRICANE GLADYS 1968-11-07 1968-05-07 1969-05-07\n",
      "15    HURRICANE SANDY 2012-10-30 2012-04-30 2013-04-30\n",
      "16    HURRICANE IRENE 2011-08-27 2011-02-27 2012-02-27\n",
      "17      HURRICANE BOB 1991-09-09 1991-03-09 1992-03-09\n"
     ]
    }
   ],
   "source": [
    "# filter to match what is in the city\n",
    "counties = ['Hillsborough County', 'Pinellas County']\n",
    "filtered_df = read_dis_df[read_dis_df['County'].isin(counties)]\n",
    "\n",
    "# get all unique hurricane names\n",
    "hurricane_names = filtered_df['Declaration Title'].str.extract(r'(HURRICANE\\s+\\w+)', expand=False).dropna()\n",
    "hurricane_names = hurricane_names.unique()\n",
    "\n",
    "disaster_df = pd.DataFrame({'hurricanes': hurricane_names})\n",
    "\n",
    "# Create a dictionary mapping Hurricane names to Declaration Dates\n",
    "hurricane_date_mapping = {}\n",
    "\n",
    "for hurricane_name in disaster_df['hurricanes']:\n",
    "    # Find matching Declaration Titles (considering variations)\n",
    "    matching_titles = filtered_df[filtered_df['Declaration Title'].str.contains(hurricane_name, case=False)]['Declaration Title']\n",
    "    if not matching_titles.empty:\n",
    "        # Use the first matching Declaration Date\n",
    "        hurricane_date_mapping[hurricane_name] = filtered_df.loc[filtered_df['Declaration Title'] == matching_titles.iloc[0], 'Declaration Date'].values[0]\n",
    "\n",
    "# add in declaration date to new df\n",
    "disaster_df['date'] = pd.to_datetime(disaster_df['hurricanes'].map(hurricane_date_mapping))\n",
    "\n",
    "# add 6 months prior and after\n",
    "disaster_df['-6 months'] = disaster_df['date'] - pd.DateOffset(months=6)\n",
    "disaster_df['+6 months'] = disaster_df['date'] + pd.DateOffset(months=6)\n",
    "\n",
    "# convert tampa data to date\n",
    "\n",
    "\n",
    "# check if in between 2 dates\n",
    "#for hurricane_name in disaster_df['hurricanes']:\n",
    "\n",
    "print(disaster_df)"
   ]
  }
 ],
 "metadata": {
  "kernelspec": {
   "display_name": "Python 3",
   "language": "python",
   "name": "python3"
  },
  "language_info": {
   "codemirror_mode": {
    "name": "ipython",
    "version": 3
   },
   "file_extension": ".py",
   "mimetype": "text/x-python",
   "name": "python",
   "nbconvert_exporter": "python",
   "pygments_lexer": "ipython3",
   "version": "3.10.12"
  }
 },
 "nbformat": 4,
 "nbformat_minor": 2
}
