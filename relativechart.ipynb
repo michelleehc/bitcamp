{
 "cells": [
  {
   "cell_type": "code",
   "execution_count": 3,
   "metadata": {},
   "outputs": [],
   "source": [
    "import pandas as pd\n",
    "import matplotlib.pyplot as plt\n",
    "import numpy as np\n",
    "\n",
    "tampa_df = pd.read_csv ('tampa.csv')\n",
    "read_dis_df = pd.read_csv ('disasters.csv')"
   ]
  },
  {
   "cell_type": "code",
   "execution_count": 1,
   "metadata": {},
   "outputs": [
    {
     "ename": "NameError",
     "evalue": "name 'read_dis_df' is not defined",
     "output_type": "error",
     "traceback": [
      "\u001b[0;31m---------------------------------------------------------------------------\u001b[0m",
      "\u001b[0;31mNameError\u001b[0m                                 Traceback (most recent call last)",
      "Cell \u001b[0;32mIn[1], line 3\u001b[0m\n\u001b[1;32m      1\u001b[0m \u001b[38;5;66;03m# filter to match what is in the city\u001b[39;00m\n\u001b[1;32m      2\u001b[0m counties \u001b[38;5;241m=\u001b[39m [\u001b[38;5;124m'\u001b[39m\u001b[38;5;124mHillsborough County\u001b[39m\u001b[38;5;124m'\u001b[39m, \u001b[38;5;124m'\u001b[39m\u001b[38;5;124mPinellas County\u001b[39m\u001b[38;5;124m'\u001b[39m]\n\u001b[0;32m----> 3\u001b[0m filtered_df \u001b[38;5;241m=\u001b[39m \u001b[43mread_dis_df\u001b[49m[read_dis_df[\u001b[38;5;124m'\u001b[39m\u001b[38;5;124mCounty\u001b[39m\u001b[38;5;124m'\u001b[39m]\u001b[38;5;241m.\u001b[39misin(counties)]\n\u001b[1;32m      5\u001b[0m \u001b[38;5;66;03m# filter it so it doesn't go less than min year in tampa\u001b[39;00m\n\u001b[1;32m      6\u001b[0m filtered_df[\u001b[38;5;124m'\u001b[39m\u001b[38;5;124mDeclaration Date\u001b[39m\u001b[38;5;124m'\u001b[39m] \u001b[38;5;241m=\u001b[39m pd\u001b[38;5;241m.\u001b[39mto_datetime(filtered_df[\u001b[38;5;124m'\u001b[39m\u001b[38;5;124mDeclaration Date\u001b[39m\u001b[38;5;124m'\u001b[39m])\n",
      "\u001b[0;31mNameError\u001b[0m: name 'read_dis_df' is not defined"
     ]
    }
   ],
   "source": [
    "# filter to match what is in the city\n",
    "counties = ['Hillsborough County', 'Pinellas County']\n",
    "filtered_df = read_dis_df[read_dis_df['County'].isin(counties)]\n",
    "\n",
    "# filter it so it doesn't go less than min year in tampa\n",
    "filtered_df['Declaration Date'] = pd.to_datetime(filtered_df['Declaration Date'])\n",
    "min_year = tampa_df['PayYear'].min()\n",
    "filtered_df = filtered_df[filtered_df['Declaration Date'].dt.year >= min_year]\n",
    "\n",
    "# get all unique hurricane names\n",
    "hurricane_names = filtered_df['Declaration Title'].str.extract(r'(HURRICANE\\s+\\w+)', expand=False).dropna()\n",
    "hurricane_names = hurricane_names.unique()\n",
    "\n",
    "disaster_df = pd.DataFrame({'hurricanes': hurricane_names})\n",
    "\n",
    "# Create a dictionary mapping Hurricane names to Declaration Dates\n",
    "hurricane_date_mapping = {}\n",
    "\n",
    "for hurricane_name in disaster_df['hurricanes']:\n",
    "    # Find matching Declaration Titles (considering variations)\n",
    "    matching_titles = filtered_df[filtered_df['Declaration Title'].str.contains(hurricane_name, case=False)]['Declaration Title']\n",
    "    if not matching_titles.empty:\n",
    "        # Use the first matching Declaration Date\n",
    "        hurricane_date_mapping[hurricane_name] = filtered_df.loc[filtered_df['Declaration Title'] == matching_titles.iloc[0], 'Declaration Date'].values[0]\n",
    "\n",
    "# add in declaration date to new df\n",
    "disaster_df['date'] = pd.to_datetime(disaster_df['hurricanes'].map(hurricane_date_mapping))\n",
    "\n",
    "# add 6 months prior and after\n",
    "disaster_df['-6 months'] = disaster_df['date'] - pd.DateOffset(months=6)\n",
    "disaster_df['+6 months'] = disaster_df['date'] + pd.DateOffset(months=6)\n",
    "\n",
    "# convert tampa data to date\n",
    "tampa_df['date'] = pd.to_datetime(dict(year=tampa_df['PayYear'], month=tampa_df['PayMonth'], day=1))\n",
    "master_fl_df = pd.DataFrame()\n",
    "\n",
    "# go through each hurricane\n",
    "for x in range(0, len(disaster_df)):\n",
    "    curr_date = disaster_df.loc[x, 'date']\n",
    "    start = disaster_df.loc[x, '-6 months']\n",
    "    end = disaster_df.loc[x, '+6 months']\n",
    "    hurricane = disaster_df.loc[x, 'hurricanes']\n",
    "\n",
    "    # now for housing data\n",
    "    mask = (tampa_df['date'] >= start) & (tampa_df['date'] <= end)\n",
    "    filter_df = tampa_df[mask]\n",
    "    scatter_df = filter_df\n",
    "    scatter_df.loc[:, 'offset'] = (curr_date - filter_df['date'])\n",
    "    scatter_df.loc[:, 'Offset from Hurricane'] = scatter_df['offset'].dt.days\n",
    "\n",
    "    # add to master list\n",
    "    if master_fl_df.empty:\n",
    "        master_fl_df = scatter_df\n",
    "    else:\n",
    "        master_fl_df = pd.concat([master_fl_df, scatter_df], ignore_index=True)\n",
    "\n",
    "    housing_info = 'Foreclosure_costs'\n",
    "\n",
    "    data = scatter_df\n",
    "    ax = data.bar(x='Offset from Hurricane', y=housing_info)\n",
    "    ax.set_xlim(left=-200, right=200)\n",
    "    ax.set_ylim(0, tampa_df[housing_info].max())\n",
    "    plt.xlabel('OFFSET IN MONTHS FROM ' + hurricane)\n",
    "\n",
    "housing_info = 'Foreclosure_costs'\n",
    "\n",
    "data = master_fl_df\n",
    "ax = data.bar(x='Offset from Hurricane', y=housing_info)\n",
    "ax.set_xlim(left=-6.5, right=6.5)\n",
    "plt.xlabel('OFFSET IN MONTHS')"
   ]
  }
 ],
 "metadata": {
  "kernelspec": {
   "display_name": "Python 3",
   "language": "python",
   "name": "python3"
  },
  "language_info": {
   "codemirror_mode": {
    "name": "ipython",
    "version": 3
   },
   "file_extension": ".py",
   "mimetype": "text/x-python",
   "name": "python",
   "nbconvert_exporter": "python",
   "pygments_lexer": "ipython3",
   "version": "3.10.12"
  }
 },
 "nbformat": 4,
 "nbformat_minor": 2
}
